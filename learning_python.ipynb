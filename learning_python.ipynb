{
  "nbformat": 4,
  "nbformat_minor": 0,
  "metadata": {
    "colab": {
      "provenance": []
    },
    "kernelspec": {
      "name": "python3",
      "display_name": "Python 3"
    },
    "language_info": {
      "name": "python"
    }
  },
  "cells": [
    {
      "cell_type": "code",
      "execution_count": null,
      "metadata": {
        "id": "lBGsu_MJlZbT",
        "outputId": "bdfb89c7-952e-4dac-a355-f32f7a6c94fd",
        "colab": {
          "base_uri": "https://localhost:8080/"
        }
      },
      "outputs": [
        {
          "output_type": "stream",
          "name": "stdout",
          "text": [
            "<class 'int'>\n",
            "<class 'float'>\n"
          ]
        }
      ],
      "source": [
        "# types int and float\n",
        "a=1\n",
        "print(type(a))\n",
        "b = 2.3\n",
        "print(type(b))\n",
        "\n",
        "\n",
        "\n"
      ]
    },
    {
      "cell_type": "code",
      "source": [
        "# types of string and boolean\n",
        "c = 'Frank is dumb!!'\n",
        "print(c)\n",
        "print(type(c))\n",
        "\n",
        "d= True\n",
        "f= False\n",
        "print(type(d))\n",
        "print(type(f))"
      ],
      "metadata": {
        "id": "C-Iuc4YUSB-E",
        "outputId": "331dd4ed-096e-4f9c-dcd4-79ff622c6532",
        "colab": {
          "base_uri": "https://localhost:8080/"
        }
      },
      "execution_count": null,
      "outputs": [
        {
          "output_type": "stream",
          "name": "stdout",
          "text": [
            "Frank is dumb!\n",
            "<class 'str'>\n",
            "<class 'bool'>\n",
            "<class 'bool'>\n"
          ]
        }
      ]
    },
    {
      "cell_type": "code",
      "source": [
        "# slicing\n",
        "print(c[9])\n",
        "print(c[9:15]) # the start index is inclusive and the end is exclusive\n",
        "print(c[:5]) #0:5\n",
        "print(c[9:]) #9: end"
      ],
      "metadata": {
        "id": "ldUZwL--TLkp",
        "outputId": "da28018c-a805-461d-e3df-e89694be338b",
        "colab": {
          "base_uri": "https://localhost:8080/"
        }
      },
      "execution_count": null,
      "outputs": [
        {
          "output_type": "stream",
          "name": "stdout",
          "text": [
            "d\n",
            "dumb!\n",
            "Frank \n",
            "dumb!\n"
          ]
        }
      ]
    },
    {
      "cell_type": "code",
      "source": [
        "my_string = '    the start inDex is Inclusive and the end iS exclusive '\n",
        "print(my_string.upper())\n",
        "print(my_string.lower())\n",
        "print(my_string.title()) # capitalize the first letter of each word\n",
        "print(my_string.lstrip())\n",
        "print(my_string.rstrip())\n",
        "print(my_string.strip())  #strip all blank space from left and right\n",
        "\n",
        "\n",
        "\n",
        "\n"
      ],
      "metadata": {
        "colab": {
          "base_uri": "https://localhost:8080/"
        },
        "id": "hizCL0Uns8lN",
        "outputId": "1017c00c-10ed-4cd6-84a4-e39a06f520c2"
      },
      "execution_count": 6,
      "outputs": [
        {
          "output_type": "stream",
          "name": "stdout",
          "text": [
            " THE START INDEX IS INCLUSIVE AND THE END IS EXCLUSIVE \n",
            " the start index is inclusive and the end is exclusive \n",
            " The Start Index Is Inclusive And The End Is Exclusive \n",
            "the start inDex is Inclusive and the end iS exclusive \n",
            " the start inDex is Inclusive and the end iS exclusive\n",
            "the start inDex is Inclusive and the end iS exclusive\n"
          ]
        }
      ]
    },
    {
      "cell_type": "code",
      "source": [
        "print('careb' in my_string)\n",
        "print('inDex' in my_string)\n",
        "print('inDex' not in  my_string)\n",
        "\n",
        "\n"
      ],
      "metadata": {
        "colab": {
          "base_uri": "https://localhost:8080/"
        },
        "id": "LXKVu_QpvUTM",
        "outputId": "e43ca710-a5a0-4475-aa06-5faa5717f555"
      },
      "execution_count": 7,
      "outputs": [
        {
          "output_type": "execute_result",
          "data": {
            "text/plain": [
              "False"
            ]
          },
          "metadata": {},
          "execution_count": 7
        }
      ]
    },
    {
      "cell_type": "code",
      "source": [
        "my_string = my_string.strip()\n",
        "print(my_string[2])\n",
        "# [start:end:step]\n",
        "my_string[2::3]\n",
        "print(my_string[2::3])\n",
        "s = 'CarebBien'\n",
        "print(s[0:9]) #[0,1,2,3,4,5,6,7,8]\n",
        "print(s[0:9:2])\n",
        "print(s[0:9:4])"
      ],
      "metadata": {
        "id": "bB3VFvKZwqRj",
        "outputId": "32cf6003-c355-46ed-ad24-611bbb48d28b",
        "colab": {
          "base_uri": "https://localhost:8080/"
        }
      },
      "execution_count": 12,
      "outputs": [
        {
          "output_type": "stream",
          "name": "stdout",
          "text": [
            "e\n",
            "ettnxsnuva enieli\n",
            "CarebBien\n",
            "Crbin\n",
            "Cbn\n"
          ]
        }
      ]
    }
  ]
}