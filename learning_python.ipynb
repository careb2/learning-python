{
  "nbformat": 4,
  "nbformat_minor": 0,
  "metadata": {
    "colab": {
      "provenance": []
    },
    "kernelspec": {
      "name": "python3",
      "display_name": "Python 3"
    },
    "language_info": {
      "name": "python"
    }
  },
  "cells": [
    {
      "cell_type": "code",
      "execution_count": 2,
      "metadata": {
        "id": "lBGsu_MJlZbT",
        "outputId": "bdfb89c7-952e-4dac-a355-f32f7a6c94fd",
        "colab": {
          "base_uri": "https://localhost:8080/"
        }
      },
      "outputs": [
        {
          "output_type": "stream",
          "name": "stdout",
          "text": [
            "<class 'int'>\n",
            "<class 'float'>\n"
          ]
        }
      ],
      "source": [
        "# types int and float\n",
        "a=1\n",
        "print(type(a))\n",
        "b = 2.3\n",
        "print(type(b))\n",
        "\n",
        "\n",
        "\n"
      ]
    },
    {
      "cell_type": "code",
      "source": [
        "# types of string and boolean\n",
        "c = 'Frank is dumb!!'\n",
        "print(c)\n",
        "print(type(c))\n",
        "\n",
        "d= True\n",
        "f= False\n",
        "print(type(d))\n",
        "print(type(f))"
      ],
      "metadata": {
        "id": "C-Iuc4YUSB-E",
        "outputId": "331dd4ed-096e-4f9c-dcd4-79ff622c6532",
        "colab": {
          "base_uri": "https://localhost:8080/"
        }
      },
      "execution_count": 4,
      "outputs": [
        {
          "output_type": "stream",
          "name": "stdout",
          "text": [
            "Frank is dumb!\n",
            "<class 'str'>\n",
            "<class 'bool'>\n",
            "<class 'bool'>\n"
          ]
        }
      ]
    },
    {
      "cell_type": "code",
      "source": [
        "# slicing\n",
        "print(c[9])\n",
        "print(c[9:15]) # the start index is inclusive and the end is exclusive\n",
        "print(c[:5]) #0:5\n",
        "print(c[9:]) #9: end"
      ],
      "metadata": {
        "id": "ldUZwL--TLkp",
        "outputId": "da28018c-a805-461d-e3df-e89694be338b",
        "colab": {
          "base_uri": "https://localhost:8080/"
        }
      },
      "execution_count": 12,
      "outputs": [
        {
          "output_type": "stream",
          "name": "stdout",
          "text": [
            "d\n",
            "dumb!\n",
            "Frank \n",
            "dumb!\n"
          ]
        }
      ]
    }
  ]
}